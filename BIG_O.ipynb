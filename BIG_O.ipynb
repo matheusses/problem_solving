{
  "nbformat": 4,
  "nbformat_minor": 0,
  "metadata": {
    "colab": {
      "provenance": [],
      "toc_visible": true,
      "authorship_tag": "ABX9TyNv4CLEdGXxcYgZ5j8cQnPr",
      "include_colab_link": true
    },
    "kernelspec": {
      "name": "python3",
      "display_name": "Python 3"
    },
    "language_info": {
      "name": "python"
    }
  },
  "cells": [
    {
      "cell_type": "markdown",
      "metadata": {
        "id": "view-in-github",
        "colab_type": "text"
      },
      "source": [
        "<a href=\"https://colab.research.google.com/github/matheusses/problem_solving/blob/main/BIG_O.ipynb\" target=\"_parent\"><img src=\"https://colab.research.google.com/assets/colab-badge.svg\" alt=\"Open In Colab\"/></a>"
      ]
    },
    {
      "cell_type": "markdown",
      "source": [
        "# **BIG O**\n"
      ],
      "metadata": {
        "id": "THK3Hf3W8ls9"
      }
    },
    {
      "cell_type": "markdown",
      "source": [
        "BIG O Analysis using Fibonacci Algorithm"
      ],
      "metadata": {
        "id": "kzTZGsLb8s5q"
      }
    },
    {
      "cell_type": "code",
      "execution_count": 24,
      "metadata": {
        "colab": {
          "base_uri": "https://localhost:8080/"
        },
        "id": "-lcn93uV8kxV",
        "outputId": "c01c6922-58f1-418e-c58b-0d9675746f11"
      },
      "outputs": [
        {
          "output_type": "stream",
          "name": "stdout",
          "text": [
            "i: 0\n",
            "i: 1\n",
            "i: 1\n",
            "i: 2\n",
            "i: 3\n",
            "i: 5\n",
            "i: 8\n",
            "i: 13\n",
            "i: 21\n",
            "i: 34\n",
            "The time of execution of above program is :3.4165382385253906 ms\n",
            "RAM Used (MB): 768.978944\n",
            "CPU Used during 5 secons: 21.2%\n"
          ]
        }
      ],
      "source": [
        "import time\n",
        "import psutil\n",
        "\n",
        "def all_fib(n):\n",
        "  start = time.time()\n",
        "  for i in range(n): # It will be executed n times\n",
        "    print(f\"i: {fib(i)}\")\n",
        "  end = time.time()\n",
        "  print(f'The time of execution of above program is :{(end-start) * 10**3} ms')\n",
        "  print(f'RAM Used (MB): {psutil.virtual_memory()[3]/1000000}')\n",
        "  print(f'CPU Used during 5 secons: {psutil.cpu_percent(5)}%')\n",
        "  # print(f'i/o:{psutil.net_io_counters()}')\n",
        "\n",
        "def fib(n):\n",
        "  if (n <= 0): return 0\n",
        "  elif (n == 1): return 1\n",
        "  return fib(n-1) + fib(n-2)  # It's represents 2^n because each n time, it will be executed two comands.\n",
        "\n",
        "all_fib(10) # the runtime to compute the n Fibonacci numbers  is O(2^N)"
      ]
    },
    {
      "cell_type": "markdown",
      "source": [
        "Fibonacci using memoization"
      ],
      "metadata": {
        "id": "mKsA8mAmDHF0"
      }
    },
    {
      "cell_type": "code",
      "source": [
        "import time\n",
        "import psutil\n",
        "\n",
        "def all_fib(n):\n",
        "  start = time.time()\n",
        "  memo = [0] * (n + 1)\n",
        "  for i in range(n): # It will be executed n times\n",
        "    print(f\"i: {fib(i, memo)}\")\n",
        "  end = time.time()\n",
        "  print(f'The time of execution of above program is :{(end-start) * 10**3} ms')\n",
        "  print(f'RAM Used (MB): {psutil.virtual_memory()[3]/1000000}')\n",
        "  print(f'CPU Used during 5 secons: {psutil.cpu_percent(5)}%')\n",
        "  # print(f'i/o:{psutil.net_io_counters()}')\n",
        "\n",
        "def fib(n, memo):\n",
        "  if (n <= 0): return 0\n",
        "  elif (n == 1): return 1\n",
        "  elif (memo[n] > 0): return memo[n]\n",
        "\n",
        "  memo[n] = fib(n-1, memo) + fib(n-2, memo) # It will be computed and stored\n",
        "  return memo[n]\n",
        "\n",
        "all_fib(10) # the runtime to compute the n Fibonacci numbers  is O(N), because the function fib() has already computed and stored in memory"
      ],
      "metadata": {
        "colab": {
          "base_uri": "https://localhost:8080/"
        },
        "id": "PaPrKTwNGtx1",
        "outputId": "131e017f-047c-4205-8316-c37a1e729d2c"
      },
      "execution_count": 25,
      "outputs": [
        {
          "output_type": "stream",
          "name": "stdout",
          "text": [
            "i: 0\n",
            "i: 1\n",
            "i: 1\n",
            "i: 2\n",
            "i: 3\n",
            "i: 5\n",
            "i: 8\n",
            "i: 13\n",
            "i: 21\n",
            "i: 34\n",
            "The time of execution of above program is :5.664825439453125 ms\n",
            "RAM Used (MB): 769.458176\n",
            "CPU Used during 5 secons: 3.4%\n"
          ]
        }
      ]
    }
  ]
}