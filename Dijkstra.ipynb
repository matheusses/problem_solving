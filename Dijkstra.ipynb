{
  "nbformat": 4,
  "nbformat_minor": 0,
  "metadata": {
    "colab": {
      "provenance": [],
      "toc_visible": true,
      "authorship_tag": "ABX9TyMGZZw0qwdRcRtMXJmxsjEH",
      "include_colab_link": true
    },
    "kernelspec": {
      "name": "python3",
      "display_name": "Python 3"
    },
    "language_info": {
      "name": "python"
    }
  },
  "cells": [
    {
      "cell_type": "markdown",
      "metadata": {
        "id": "view-in-github",
        "colab_type": "text"
      },
      "source": [
        "<a href=\"https://colab.research.google.com/github/matheusses/problem_solving/blob/main/Dijkstra.ipynb\" target=\"_parent\"><img src=\"https://colab.research.google.com/assets/colab-badge.svg\" alt=\"Open In Colab\"/></a>"
      ]
    },
    {
      "cell_type": "markdown",
      "source": [
        "# Dijkstra\n",
        "\n",
        "https://whimsical.com/djikstra-ULBhe3Sp9aVMKBzBiNNQLN\n",
        "\n",
        "Dijkstra's algorithm, named after Dutch computer scientist Edsger W. Dijkstra, is a fundamental algorithm in computer science used to find the shortest path between nodes in a graph. Here's Dijkstra's algorithm in a nutshell:\n",
        "\n",
        "Initialization: Start at a source node and set the initial distance to it as 0, while setting all other nodes' distances to infinity. Keep a priority queue (or min-heap) to keep track of nodes to visit next.\n",
        "\n",
        "Visit Neighbors: Visit each neighboring node of the current node and calculate the tentative distance from the source to that neighbor through the current node. If this tentative distance is shorter than the recorded distance to the neighbor, update the neighbor's distance.\n",
        "\n",
        "Select Next Node: Choose the unvisited node with the smallest distance as the next current node and mark it as visited.\n",
        "\n",
        "Repeat: Continue this process, visiting neighbors, updating distances, and selecting the next node until you've visited all nodes or until the destination node is reached.\n",
        "\n",
        "Optimal Path: Once you've visited all nodes or reached the destination node, you have the shortest path from the source to the destination based on the recorded distances.\n",
        "\n",
        "Dijkstra's algorithm is guaranteed to find the shortest path in a graph with non-negative edge weights. However, it may not work correctly in graphs with negative edge weights, as it doesn't account for negative-weight cycles. If negative weights are present, other algorithms like the Bellman-Ford algorithm should be used."
      ],
      "metadata": {
        "id": "id_XsC7KCY1D"
      }
    },
    {
      "cell_type": "code",
      "source": [
        "from collections import defaultdict, deque\n",
        "import heapq\n",
        "\n",
        "def dijkistra(graph, source, end):\n",
        "    visited = set()\n",
        "\n",
        "    distances = defaultdict(lambda: (float('inf'), None))\n",
        "    distances[source] = (0, source)\n",
        "\n",
        "    queue = [(0, source)]\n",
        "\n",
        "    while len(visited) < len(graph):\n",
        "        cost, cur = heapq.heappop(queue)\n",
        "\n",
        "        if cur in visited:\n",
        "            continue\n",
        "\n",
        "        if (cur == end):\n",
        "            break\n",
        "\n",
        "        visited.add(cur)\n",
        "\n",
        "        for neighbor, neighbor_cost in graph[cur].items():\n",
        "            neighbor_cumulative_cost = cost + neighbor_cost\n",
        "\n",
        "            current_neighbor_minor_cost = distances[neighbor][0]\n",
        "\n",
        "            if neighbor_cumulative_cost < current_neighbor_minor_cost:\n",
        "                distances[neighbor] = (neighbor_cumulative_cost, cur)\n",
        "                heapq.heappush(queue, (neighbor_cumulative_cost, neighbor))\n",
        "\n",
        "\n",
        "    path = deque([end])\n",
        "\n",
        "    while end != source:\n",
        "        end = distances[end][1]\n",
        "        path.appendleft(end)\n",
        "\n",
        "    return path\n",
        "\n",
        "\n",
        "# graph = {\n",
        "#     'A': { 'B': 5, 'C': 1},\n",
        "#     'B': { 'D': 2, 'B': 4, 'E': 4 },\n",
        "#     'C': { 'E': 5, 'B': 2, 'D': 5 },\n",
        "#     'D': { 'E': 2 },\n",
        "#     'E': { }\n",
        "# }\n",
        "\n",
        "graph = {\n",
        "    \"A\": {\"B\": 3, \"D\": 4, \"S\": 7},\n",
        "    \"B\": {\"A\": 3, \"D\": 4, \"S\": 2, \"H\": 1},\n",
        "    \"C\": {\"S\": 3, \"L\": 2},\n",
        "    \"D\": {\"A\": 4, \"B\": 4, \"F\": 5},\n",
        "    \"E\": {\"G\": 2, \"K\": 5},\n",
        "    \"F\": {\"D\": 5, \"H\": 3},\n",
        "    \"G\": {\"E\": 2, \"H\": 2},\n",
        "    \"H\": {\"B\": 1, \"F\": 3, \"G\": 2},\n",
        "    \"I\": {\"J\": 6, \"K\": 4, \"L\": 4},\n",
        "    \"J\": {\"I\": 6, \"K\": 4, \"L\": 4},\n",
        "    \"K\": {\"E\": 5, \"I\": 4, \"J\": 4},\n",
        "    \"L\": {\"C\": 2, \"I\": 4, \"J\": 4},\n",
        "    \"S\": {\"A\": 7, \"B\": 2, \"C\": 3}\n",
        "}\n",
        "\n",
        "\n",
        "print(graph)\n",
        "print(dijkistra(graph, \"S\", \"E\"))"
      ],
      "metadata": {
        "colab": {
          "base_uri": "https://localhost:8080/"
        },
        "id": "qPua1AjmCaxL",
        "outputId": "93a7a65a-edf9-44b9-ccbb-fb269287b6ac"
      },
      "execution_count": 1,
      "outputs": [
        {
          "output_type": "stream",
          "name": "stdout",
          "text": [
            "{'A': {'B': 3, 'D': 4, 'S': 7}, 'B': {'A': 3, 'D': 4, 'S': 2, 'H': 1}, 'C': {'S': 3, 'L': 2}, 'D': {'A': 4, 'B': 4, 'F': 5}, 'E': {'G': 2, 'K': 5}, 'F': {'D': 5, 'H': 3}, 'G': {'E': 2, 'H': 2}, 'H': {'B': 1, 'F': 3, 'G': 2}, 'I': {'J': 6, 'K': 4, 'L': 4}, 'J': {'I': 6, 'K': 4, 'L': 4}, 'K': {'E': 5, 'I': 4, 'J': 4}, 'L': {'C': 2, 'I': 4, 'J': 4}, 'S': {'A': 7, 'B': 2, 'C': 3}}\n",
            "deque(['S', 'B', 'H', 'G', 'E'])\n"
          ]
        }
      ]
    }
  ]
}