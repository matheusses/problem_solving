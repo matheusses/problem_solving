{
  "nbformat": 4,
  "nbformat_minor": 0,
  "metadata": {
    "colab": {
      "provenance": [],
      "toc_visible": true,
      "authorship_tag": "ABX9TyNsylv6uUbZuKmr1CYGl5Fj",
      "include_colab_link": true
    },
    "kernelspec": {
      "name": "python3",
      "display_name": "Python 3"
    },
    "language_info": {
      "name": "python"
    }
  },
  "cells": [
    {
      "cell_type": "markdown",
      "metadata": {
        "id": "view-in-github",
        "colab_type": "text"
      },
      "source": [
        "<a href=\"https://colab.research.google.com/github/matheusses/problem_solving/blob/main/Heap.ipynb\" target=\"_parent\"><img src=\"https://colab.research.google.com/assets/colab-badge.svg\" alt=\"Open In Colab\"/></a>"
      ]
    },
    {
      "cell_type": "markdown",
      "source": [
        "# Heap\n",
        "\n",
        "Heap is a specialized tree-based data structure, it is efficient in prioritization. There are heap properties that are min and max heap that represent the max or min in the set data. It consists that the root is always greater(max heap) or lesser(min-heap) than its children(left and right)and the movimentation is swap up or down.\n",
        "\n",
        "Its push and pop operations are O(log(n)) because this data structure does the balancing data just in the impacted branch and it doesn't traverse the entire array and the elements can be swapped just up or down.\n",
        "\n",
        "`get_parent = (index - 1) / 2`\n",
        "\n",
        "`get_left_node = (index * 2) + 1`\n",
        "\n",
        "`get_left_node = (index * 2) + 2`\n",
        "\n",
        "https://www.cs.usfca.edu/~galles/visualization/Heap.html"
      ],
      "metadata": {
        "id": "SduHCHvNeR6G"
      }
    },
    {
      "cell_type": "markdown",
      "source": [
        "## Min Heap"
      ],
      "metadata": {
        "id": "AynYtzEMjsbn"
      }
    },
    {
      "cell_type": "code",
      "source": [
        "class Heap():\n",
        "\n",
        "    __amount = 0\n",
        "    __capacity = 4\n",
        "    __heap=[0]\n",
        "\n",
        "    def __init__(self):\n",
        "      self.__build_min_heap()\n",
        "\n",
        "    def __get_left_node(self, index):\n",
        "      return (index * 2) + 1\n",
        "\n",
        "    def __get_rigth_node(self, index):\n",
        "      return (index * 2) + 2\n",
        "\n",
        "    def __get_parent_node(self, index):\n",
        "      return (index - 1) // 2\n",
        "\n",
        "    def __build_min_heap(self):\n",
        "      self.__amount = 0\n",
        "      self.__heap = [0] * self.__capacity\n",
        "\n",
        "    def __expand_capacity(self):\n",
        "      self.__capacity *= 2\n",
        "      self.__heap += [0] * self.__capacity\n",
        "\n",
        "    def push(self, value):\n",
        "      # check the capacity and increase size twice is it's necessary\n",
        "      if self.__amount > self.__capacity:\n",
        "        self.__expand_capacity()\n",
        "\n",
        "      # put the value in the last position\n",
        "      index = self.__amount\n",
        "      self.__heap[index] = value\n",
        "\n",
        "      # get root because, root should be the lowest value\n",
        "      parent_index = self.__get_parent_node(index)\n",
        "\n",
        "      # while the root is not the lowest value\n",
        "      while (self.__heap[index] < self.__heap[parent_index]):\n",
        "        self.__heap[index] = self.__heap[parent_index]\n",
        "        self.__heap[parent_index] = value\n",
        "        index = parent_index\n",
        "        parent_index = self.__get_parent_node(index)\n",
        "\n",
        "      self.__amount+=1\n",
        "      return self.__heap\n",
        "\n",
        "\n"
      ],
      "metadata": {
        "id": "AK93U68pkcW-"
      },
      "execution_count": 31,
      "outputs": []
    },
    {
      "cell_type": "code",
      "execution_count": 39,
      "metadata": {
        "id": "OS7XY9axeDKL"
      },
      "outputs": [],
      "source": [
        "import pytest\n",
        "\n",
        "class HeapTest():\n",
        "\n",
        "  @pytest.fixture\n",
        "  def heap():\n",
        "    heap = Heap()\n",
        "    heap.push(30)\n",
        "    heap.push(10)\n",
        "    h = heap.push(20)\n",
        "    return h\n",
        "\n",
        "  def push_test(self, heap):\n",
        "    expected_heap = [10, 30, 20 , 0]\n",
        "    assert  expected_heap == heap\n",
        "\n",
        "\n"
      ]
    }
  ]
}