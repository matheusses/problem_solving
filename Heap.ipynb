{
  "nbformat": 4,
  "nbformat_minor": 0,
  "metadata": {
    "colab": {
      "provenance": [],
      "toc_visible": true,
      "authorship_tag": "ABX9TyO1sb27gFdRwLvUg16TKgd2",
      "include_colab_link": true
    },
    "kernelspec": {
      "name": "python3",
      "display_name": "Python 3"
    },
    "language_info": {
      "name": "python"
    }
  },
  "cells": [
    {
      "cell_type": "markdown",
      "metadata": {
        "id": "view-in-github",
        "colab_type": "text"
      },
      "source": [
        "<a href=\"https://colab.research.google.com/github/matheusses/problem_solving/blob/main/Heap.ipynb\" target=\"_parent\"><img src=\"https://colab.research.google.com/assets/colab-badge.svg\" alt=\"Open In Colab\"/></a>"
      ]
    },
    {
      "cell_type": "markdown",
      "source": [
        "# Heap\n",
        "\n",
        "Heap is a specialized tree-based data structure, it is efficient in prioritization. There are heap properties that are min and max heap that represent the max or min in the set data. It consists that the root is always greater(max heap) or lesser(min-heap) than its children(left and right)and the movimentation is swap up or down.\n",
        "\n",
        "Its push and pop operations are O(log(n)) because this data structure does the balancing data just in the impacted branch and it doesn't traverse the entire array and the elements can be swapped just up or down.\n",
        "\n",
        "`get_parent = (index - 1) / 2`\n",
        "\n",
        "`get_left_node = (index * 2) + 1`\n",
        "\n",
        "`get_left_node = (index * 2) + 2`\n",
        "\n",
        "https://www.cs.usfca.edu/~galles/visualization/Heap.html"
      ],
      "metadata": {
        "id": "SduHCHvNeR6G"
      }
    },
    {
      "cell_type": "markdown",
      "source": [
        "## Min Heap"
      ],
      "metadata": {
        "id": "AynYtzEMjsbn"
      }
    },
    {
      "cell_type": "code",
      "source": [
        "class Heap():\n",
        "\n",
        "    _amount = 0\n",
        "    _capacity = 4\n",
        "    _tree=[0]\n",
        "\n",
        "    def _get_left_node(index):\n",
        "      return (index * 2) + 1\n",
        "\n",
        "    def _get_rigth_node(index):\n",
        "      return (index * 2) + 2\n",
        "\n",
        "    def _get_parent_node(index):\n",
        "      return (_index - 1) // 2\n",
        "\n",
        "    def build_min_heap():\n",
        "      _amount = 0\n",
        "      _tree = [0] * _capacity\n",
        "\n",
        "    def _expand_capacity():\n",
        "      _capacity *= 2\n",
        "      _tree += [0] * _capacity\n",
        "\n",
        "    def push(value):\n",
        "      # check the capacity and increase size twice is it's necessary\n",
        "      if _amount > _capacity:\n",
        "        _expand_capacity()\n",
        "\n",
        "      # put the value in the last position\n",
        "      index = _amount\n",
        "      _tree[index] = value\n",
        "\n",
        "      # get root because, root should be the lowest value\n",
        "      parent_index = _get_parent_node(index)\n",
        "\n",
        "      # while the root is not the lowest value\n",
        "      while (_tree[index] < _tree[parent_index]):\n",
        "        _tree[index] = _tree[parent_index]\n",
        "        _tree[parent_index] = value\n",
        "        index = parent_index\n",
        "        parent_index = _get_parent_node(index)\n",
        "\n",
        "      _amount++\n",
        "\n",
        "\n",
        "\n",
        "\n",
        "\n",
        "\n",
        "\n",
        "\n"
      ],
      "metadata": {
        "id": "AK93U68pkcW-"
      },
      "execution_count": null,
      "outputs": []
    },
    {
      "cell_type": "markdown",
      "source": [
        "## Max Heap"
      ],
      "metadata": {
        "id": "_Gz5OzUQkdU-"
      }
    },
    {
      "cell_type": "code",
      "execution_count": 5,
      "metadata": {
        "colab": {
          "base_uri": "https://localhost:8080/"
        },
        "id": "OS7XY9axeDKL",
        "outputId": "2c8010e8-d258-4d6b-b008-a8bbf5ba5b6a"
      },
      "outputs": [
        {
          "output_type": "stream",
          "name": "stdout",
          "text": [
            "4\n",
            "8\n"
          ]
        },
        {
          "output_type": "execute_result",
          "data": {
            "text/plain": [
              "[0, 0, 0, 1, 0, 0, 0, 0]"
            ]
          },
          "metadata": {},
          "execution_count": 5
        }
      ],
      "source": [
        "_capacity = 4\n",
        "_tree = [0]* _capacity\n",
        "print(len(_tree))\n",
        "_tree[3] = 1\n",
        "_tree += [0] * _capacity\n",
        "print(len(_tree))\n",
        "_tree"
      ]
    },
    {
      "cell_type": "code",
      "source": [],
      "metadata": {
        "colab": {
          "base_uri": "https://localhost:8080/",
          "height": 165
        },
        "id": "LfGrdi9VnNhM",
        "outputId": "95b3c9f1-4a9c-449e-f5d5-8b648d8cdafc"
      },
      "execution_count": 2,
      "outputs": [
        {
          "output_type": "error",
          "ename": "NameError",
          "evalue": "ignored",
          "traceback": [
            "\u001b[0;31m---------------------------------------------------------------------------\u001b[0m",
            "\u001b[0;31mNameError\u001b[0m                                 Traceback (most recent call last)",
            "\u001b[0;32m<ipython-input-2-835dfb957875>\u001b[0m in \u001b[0;36m<cell line: 1>\u001b[0;34m()\u001b[0m\n\u001b[0;32m----> 1\u001b[0;31m \u001b[0m_tree\u001b[0m\u001b[0;34m[\u001b[0m\u001b[0mcapacity\u001b[0m\u001b[0;34m-\u001b[0m\u001b[0;36m1\u001b[0m\u001b[0;34m]\u001b[0m \u001b[0;34m=\u001b[0m \u001b[0;34m[\u001b[0m\u001b[0;36m0\u001b[0m\u001b[0;34m]\u001b[0m \u001b[0;34m*\u001b[0m \u001b[0m_capacity\u001b[0m\u001b[0;34m\u001b[0m\u001b[0;34m\u001b[0m\u001b[0m\n\u001b[0m",
            "\u001b[0;31mNameError\u001b[0m: name 'capacity' is not defined"
          ]
        }
      ]
    }
  ]
}