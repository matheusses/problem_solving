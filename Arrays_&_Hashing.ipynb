{
  "nbformat": 4,
  "nbformat_minor": 0,
  "metadata": {
    "colab": {
      "provenance": [],
      "toc_visible": true,
      "authorship_tag": "ABX9TyMkmd7rhZeB2KoS730HHiHd",
      "include_colab_link": true
    },
    "kernelspec": {
      "name": "python3",
      "display_name": "Python 3"
    },
    "language_info": {
      "name": "python"
    }
  },
  "cells": [
    {
      "cell_type": "markdown",
      "metadata": {
        "id": "view-in-github",
        "colab_type": "text"
      },
      "source": [
        "<a href=\"https://colab.research.google.com/github/matheusses/problem_solving/blob/main/Arrays_%26_Hashing.ipynb\" target=\"_parent\"><img src=\"https://colab.research.google.com/assets/colab-badge.svg\" alt=\"Open In Colab\"/></a>"
      ]
    },
    {
      "cell_type": "markdown",
      "source": [
        "\n"
      ],
      "metadata": {
        "id": "ef61jPtL1HZE"
      }
    },
    {
      "cell_type": "markdown",
      "source": [
        "# Contains Duplicate"
      ],
      "metadata": {
        "id": "lsWi4ZLf1PUu"
      }
    },
    {
      "cell_type": "markdown",
      "source": [
        "\n",
        "Given an integer array nums, return true if any value appears at least twice in the array, and return false if every element is distinct.\n",
        "\n",
        "\n",
        "\n",
        "Example 1:\n",
        "\n",
        "Input: nums = [1,2,3,1]\n",
        "Output: true\n",
        "Example 2:\n",
        "\n",
        "Input: nums = [1,2,3,4]\n",
        "Output: false\n",
        "Example 3:\n",
        "\n",
        "Input: nums = [1,1,1,3,3,4,3,2,4,2]\n",
        "Output: true\n",
        "\n",
        "\n",
        "Constraints:\n",
        "\n",
        "1 <= nums.length <= 105\n",
        "-109 <= nums[i] <= 109"
      ],
      "metadata": {
        "id": "VMKp-8lq0ihg"
      }
    },
    {
      "cell_type": "markdown",
      "source": [
        "Approach using extra memory.\n",
        "space: Log(n) ->  it is using extra memory in hash set\n",
        "time: Log(n) -> it is not possible to add duplicate data in hash set.\n",
        "\n",
        "It's important to note that sets in Python are primarily designed for fast membership tests and uniqueness of elements."
      ],
      "metadata": {
        "id": "IXWok5HQ0qyy"
      }
    },
    {
      "cell_type": "code",
      "execution_count": 2,
      "metadata": {
        "colab": {
          "base_uri": "https://localhost:8080/"
        },
        "id": "E3U6NyOh0DPx",
        "outputId": "1345311e-2ad4-4034-9ad5-ef1e3bf97285"
      },
      "outputs": [
        {
          "output_type": "stream",
          "name": "stdout",
          "text": [
            "True\n"
          ]
        }
      ],
      "source": [
        "class Solution(object):\n",
        "    def containsDuplicate(self, nums):\n",
        "        \"\"\"\n",
        "        :type nums: List[int]\n",
        "        :rtype: bool\n",
        "        \"\"\"\n",
        "        # space => log(n)\n",
        "        hash_set = set()\n",
        "\n",
        "        #  time => log (n)\n",
        "        for num in nums:\n",
        "            if num in hash_set:\n",
        "                return True\n",
        "            hash_set.add(num)\n",
        "\n",
        "sol = Solution()\n",
        "nums = [1,5,5,3,1]\n",
        "result = sol.containsDuplicate(nums)\n",
        "print(result)"
      ]
    },
    {
      "cell_type": "markdown",
      "source": [
        "Approach ordering set\n",
        "\n",
        "Converting a set to a list using sorted() has a time complexity of O(n log n), where n is the size of the set. This is because the sorting algorithm used by sorted() is typically based on a comparison-based sorting algorithm like Timsort, which has an average-case time complexity of O(n log n)."
      ],
      "metadata": {
        "id": "Qiz_bYLw1A4w"
      }
    },
    {
      "cell_type": "code",
      "source": [
        "class Solution(object):\n",
        "    def containsDuplicate(self, nums):\n",
        "        \"\"\"\n",
        "        :type nums: List[int]\n",
        "        :rtype: bool\n",
        "        \"\"\"\n",
        "        # space => log(1) => it does not use extra memory.\n",
        "        aux_num = None\n",
        "        #  time => log (n log n) => using sorted() has a has a time complexity of O(n log n)\n",
        "        for num in sorted(nums):\n",
        "            if num == aux_num:\n",
        "                return True\n",
        "            aux_num = num\n",
        "\n",
        "sol = Solution()\n",
        "nums = [1,5,5,3,1]\n",
        "result = sol.containsDuplicate(nums)\n",
        "print(result)"
      ],
      "metadata": {
        "colab": {
          "base_uri": "https://localhost:8080/"
        },
        "id": "iEaR_sfM2Umk",
        "outputId": "785456f3-aebb-40b6-bf00-b2c36907caeb"
      },
      "execution_count": 5,
      "outputs": [
        {
          "output_type": "stream",
          "name": "stdout",
          "text": [
            "True\n"
          ]
        }
      ]
    }
  ]
}