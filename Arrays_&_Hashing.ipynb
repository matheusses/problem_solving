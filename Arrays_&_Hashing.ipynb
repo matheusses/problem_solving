{
  "nbformat": 4,
  "nbformat_minor": 0,
  "metadata": {
    "colab": {
      "provenance": [],
      "toc_visible": true,
      "authorship_tag": "ABX9TyOe5BCG4sTmzgYblUE/41JI",
      "include_colab_link": true
    },
    "kernelspec": {
      "name": "python3",
      "display_name": "Python 3"
    },
    "language_info": {
      "name": "python"
    }
  },
  "cells": [
    {
      "cell_type": "markdown",
      "metadata": {
        "id": "view-in-github",
        "colab_type": "text"
      },
      "source": [
        "<a href=\"https://colab.research.google.com/github/matheusses/problem_solving/blob/main/Arrays_%26_Hashing.ipynb\" target=\"_parent\"><img src=\"https://colab.research.google.com/assets/colab-badge.svg\" alt=\"Open In Colab\"/></a>"
      ]
    },
    {
      "cell_type": "markdown",
      "source": [
        "\n"
      ],
      "metadata": {
        "id": "ef61jPtL1HZE"
      }
    },
    {
      "cell_type": "code",
      "source": [
        "%pip install -U ipytest"
      ],
      "metadata": {
        "id": "D9yO22rXp_jl",
        "outputId": "0948ab73-cd42-4159-ace3-0f4651913a3e",
        "colab": {
          "base_uri": "https://localhost:8080/"
        }
      },
      "execution_count": null,
      "outputs": [
        {
          "output_type": "stream",
          "name": "stdout",
          "text": [
            "Collecting ipytest\n",
            "  Downloading ipytest-0.13.3-py3-none-any.whl (14 kB)\n",
            "Requirement already satisfied: ipython in /usr/local/lib/python3.10/dist-packages (from ipytest) (7.34.0)\n",
            "Requirement already satisfied: packaging in /usr/local/lib/python3.10/dist-packages (from ipytest) (23.1)\n",
            "Requirement already satisfied: pytest>=5.4 in /usr/local/lib/python3.10/dist-packages (from ipytest) (7.4.0)\n",
            "Requirement already satisfied: iniconfig in /usr/local/lib/python3.10/dist-packages (from pytest>=5.4->ipytest) (2.0.0)\n",
            "Requirement already satisfied: pluggy<2.0,>=0.12 in /usr/local/lib/python3.10/dist-packages (from pytest>=5.4->ipytest) (1.2.0)\n",
            "Requirement already satisfied: exceptiongroup>=1.0.0rc8 in /usr/local/lib/python3.10/dist-packages (from pytest>=5.4->ipytest) (1.1.3)\n",
            "Requirement already satisfied: tomli>=1.0.0 in /usr/local/lib/python3.10/dist-packages (from pytest>=5.4->ipytest) (2.0.1)\n",
            "Requirement already satisfied: setuptools>=18.5 in /usr/local/lib/python3.10/dist-packages (from ipython->ipytest) (67.7.2)\n",
            "Collecting jedi>=0.16 (from ipython->ipytest)\n",
            "  Downloading jedi-0.19.0-py2.py3-none-any.whl (1.6 MB)\n",
            "\u001b[2K     \u001b[90m━━━━━━━━━━━━━━━━━━━━━━━━━━━━━━━━━━━━━━━━\u001b[0m \u001b[32m1.6/1.6 MB\u001b[0m \u001b[31m7.0 MB/s\u001b[0m eta \u001b[36m0:00:00\u001b[0m\n",
            "\u001b[?25hRequirement already satisfied: decorator in /usr/local/lib/python3.10/dist-packages (from ipython->ipytest) (4.4.2)\n",
            "Requirement already satisfied: pickleshare in /usr/local/lib/python3.10/dist-packages (from ipython->ipytest) (0.7.5)\n",
            "Requirement already satisfied: traitlets>=4.2 in /usr/local/lib/python3.10/dist-packages (from ipython->ipytest) (5.7.1)\n",
            "Requirement already satisfied: prompt-toolkit!=3.0.0,!=3.0.1,<3.1.0,>=2.0.0 in /usr/local/lib/python3.10/dist-packages (from ipython->ipytest) (3.0.39)\n",
            "Requirement already satisfied: pygments in /usr/local/lib/python3.10/dist-packages (from ipython->ipytest) (2.16.1)\n",
            "Requirement already satisfied: backcall in /usr/local/lib/python3.10/dist-packages (from ipython->ipytest) (0.2.0)\n",
            "Requirement already satisfied: matplotlib-inline in /usr/local/lib/python3.10/dist-packages (from ipython->ipytest) (0.1.6)\n",
            "Requirement already satisfied: pexpect>4.3 in /usr/local/lib/python3.10/dist-packages (from ipython->ipytest) (4.8.0)\n",
            "Requirement already satisfied: parso<0.9.0,>=0.8.3 in /usr/local/lib/python3.10/dist-packages (from jedi>=0.16->ipython->ipytest) (0.8.3)\n",
            "Requirement already satisfied: ptyprocess>=0.5 in /usr/local/lib/python3.10/dist-packages (from pexpect>4.3->ipython->ipytest) (0.7.0)\n",
            "Requirement already satisfied: wcwidth in /usr/local/lib/python3.10/dist-packages (from prompt-toolkit!=3.0.0,!=3.0.1,<3.1.0,>=2.0.0->ipython->ipytest) (0.2.6)\n",
            "Installing collected packages: jedi, ipytest\n",
            "Successfully installed ipytest-0.13.3 jedi-0.19.0\n"
          ]
        }
      ]
    },
    {
      "cell_type": "code",
      "source": [
        "import ipytest\n",
        "\n",
        "ipytest.autoconfig()"
      ],
      "metadata": {
        "id": "FdXDVznRqa8b"
      },
      "execution_count": null,
      "outputs": []
    },
    {
      "cell_type": "markdown",
      "source": [
        "# Contains Duplicate"
      ],
      "metadata": {
        "id": "lsWi4ZLf1PUu"
      }
    },
    {
      "cell_type": "markdown",
      "source": [
        "\n",
        "Given an integer array nums, return true if any value appears at least twice in the array, and return false if every element is distinct.\n",
        "\n",
        "\n",
        "\n",
        "Example 1:\n",
        "\n",
        "Input: nums = [1,2,3,1]\n",
        "Output: true\n",
        "Example 2:\n",
        "\n",
        "Input: nums = [1,2,3,4]\n",
        "Output: false\n",
        "Example 3:\n",
        "\n",
        "Input: nums = [1,1,1,3,3,4,3,2,4,2]\n",
        "Output: true\n",
        "\n",
        "\n",
        "Constraints:\n",
        "\n",
        "1 <= nums.length <= 105\n",
        "-109 <= nums[i] <= 109"
      ],
      "metadata": {
        "id": "VMKp-8lq0ihg"
      }
    },
    {
      "cell_type": "markdown",
      "source": [
        "## Approach using extra memory using hash set\n",
        "space: Log(n) ->  it is using extra memory in hash set\n",
        "time: Log(n) -> it is not possible to add duplicate data in hash set.\n",
        "\n",
        "It's important to note that sets in Python are primarily designed for fast membership tests and uniqueness of elements."
      ],
      "metadata": {
        "id": "IXWok5HQ0qyy"
      }
    },
    {
      "cell_type": "code",
      "execution_count": null,
      "metadata": {
        "colab": {
          "base_uri": "https://localhost:8080/"
        },
        "id": "E3U6NyOh0DPx",
        "outputId": "1345311e-2ad4-4034-9ad5-ef1e3bf97285"
      },
      "outputs": [
        {
          "output_type": "stream",
          "name": "stdout",
          "text": [
            "True\n"
          ]
        }
      ],
      "source": [
        "class Solution(object):\n",
        "    def containsDuplicate(self, nums):\n",
        "        \"\"\"\n",
        "        :type nums: List[int]\n",
        "        :rtype: bool\n",
        "        \"\"\"\n",
        "        # space => log(n)\n",
        "        hash_set = set()\n",
        "\n",
        "        #  time => log (n)\n",
        "        for num in nums:\n",
        "            if num in hash_set:\n",
        "                return True\n",
        "            hash_set.add(num)\n",
        "\n",
        "solution = Solution()\n",
        "nums = [1,5,5,3,1]\n",
        "result = solution.containsDuplicate(nums)\n",
        "print(result)"
      ]
    },
    {
      "cell_type": "markdown",
      "source": [
        "## Approach ordering set\n",
        "\n",
        "Converting a set to a list using sorted() has a time complexity of O(n log n), where n is the size of the set. This is because the sorting algorithm used by sorted() is typically based on a comparison-based sorting algorithm like Timsort, which has an average-case time complexity of O(n log n)."
      ],
      "metadata": {
        "id": "Qiz_bYLw1A4w"
      }
    },
    {
      "cell_type": "code",
      "source": [
        "class Solution(object):\n",
        "    def containsDuplicate(self, nums):\n",
        "        \"\"\"\n",
        "        :type nums: List[int]\n",
        "        :rtype: bool\n",
        "        \"\"\"\n",
        "        # space => log(1) => it does not use extra memory.\n",
        "        aux_num = None\n",
        "        #  time => log (n log n) => using sorted() has a has a time complexity of O(n log n)\n",
        "        for num in sorted(nums):\n",
        "            if num == aux_num:\n",
        "                return True\n",
        "            aux_num = num\n",
        "\n",
        "solution = Solution()\n",
        "nums = [1,5,5,3,1]\n",
        "result = solution.containsDuplicate(nums)\n",
        "print(result)"
      ],
      "metadata": {
        "colab": {
          "base_uri": "https://localhost:8080/"
        },
        "id": "iEaR_sfM2Umk",
        "outputId": "785456f3-aebb-40b6-bf00-b2c36907caeb"
      },
      "execution_count": null,
      "outputs": [
        {
          "output_type": "stream",
          "name": "stdout",
          "text": [
            "True\n"
          ]
        }
      ]
    },
    {
      "cell_type": "markdown",
      "source": [
        "# Valid Anagram\n",
        "\n",
        "Given two strings s and t, return true if t is an anagram of s, and false otherwise.\n",
        "\n",
        "An Anagram is a word or phrase formed by rearranging the letters of a different word or phrase, typically using all the original letters exactly once.\n",
        "\n",
        "\n",
        "\n",
        "Example 1:\n",
        "\n",
        "Input: s = \"anagram\", t = \"nagaram\"\n",
        "Output: true\n",
        "Example 2:\n",
        "\n",
        "Input: s = \"rat\", t = \"car\"\n",
        "Output: false"
      ],
      "metadata": {
        "id": "Zs0AaEml4pMW"
      }
    },
    {
      "cell_type": "markdown",
      "source": [
        "## Approach using extra memory using hash set\n",
        "\n",
        "Space is O(n) => it is represent amout of s and t .i.e ( in other words), O(t+s)"
      ],
      "metadata": {
        "id": "9wPvZagZG6IG"
      }
    },
    {
      "cell_type": "code",
      "source": [
        "class Solution(object):\n",
        "    def isAnagram(self, s, t):\n",
        "        \"\"\"\n",
        "        :type s: str\n",
        "        :type t: str\n",
        "        :rtype: bool\n",
        "        \"\"\"\n",
        "        if len(s) != len(t):\n",
        "          return False\n",
        "\n",
        "        countS, countT = {}, {}\n",
        "        for i in range(len(s)):\n",
        "          countS[s[i]] = 1 + countS.get(s[i],0)\n",
        "          countT[t[i]] = 1 + countT.get(t[i],0)\n",
        "\n",
        "        for c in countS:\n",
        "          if countS[c] != countT.get(c, 0):\n",
        "            return False\n",
        "\n",
        "        return True\n",
        "\n",
        "\n",
        "solution = Solution()\n",
        "s,t = \"anagram\",\"nagaram\"\n",
        "result = solution.isAnagram(s, t)\n",
        "print(result)"
      ],
      "metadata": {
        "colab": {
          "base_uri": "https://localhost:8080/"
        },
        "id": "I7-u6kqv46ul",
        "outputId": "9b42f7c7-3657-40bc-c479-6b90b4af78cb"
      },
      "execution_count": null,
      "outputs": [
        {
          "output_type": "stream",
          "name": "stdout",
          "text": [
            "True\n"
          ]
        }
      ]
    },
    {
      "cell_type": "markdown",
      "source": [
        "Counter lib has the same complexity in time and space"
      ],
      "metadata": {
        "id": "PaCtPGRCJA-I"
      }
    },
    {
      "cell_type": "code",
      "source": [
        "from collections import Counter\n",
        "class Solution(object):\n",
        "    def isAnagram(self, s, t):\n",
        "        \"\"\"\n",
        "        :type s: str\n",
        "        :type t: str\n",
        "        :rtype: bool\n",
        "        \"\"\"\n",
        "        return Counter(s) == Counter(t)\n",
        "\n",
        "\n",
        "solution = Solution()\n",
        "s,t = \"anagram\",\"nagaram\"\n",
        "result = solution.isAnagram(s, t)\n",
        "print(result)"
      ],
      "metadata": {
        "colab": {
          "base_uri": "https://localhost:8080/"
        },
        "id": "2XYyrEV_JedC",
        "outputId": "98e6a119-ae2e-4eb0-aa2a-e7341928871e"
      },
      "execution_count": null,
      "outputs": [
        {
          "output_type": "stream",
          "name": "stdout",
          "text": [
            "True\n"
          ]
        }
      ]
    },
    {
      "cell_type": "markdown",
      "source": [
        "## Approach ordering set\n",
        "\n",
        "Without use extra memory.\n",
        "\n",
        "Sorting both set data.\n",
        "\n",
        "Space => log(1) - It does not use extra memory.\n",
        "Time => log(n log n) - The sorted has this time of complexity in your avarage."
      ],
      "metadata": {
        "id": "8nPbeWZTKClm"
      }
    },
    {
      "cell_type": "code",
      "source": [
        "from collections import Counter\n",
        "class Solution(object):\n",
        "    def isAnagram(self, s, t):\n",
        "        \"\"\"\n",
        "        :type s: str\n",
        "        :type t: str\n",
        "        :rtype: bool\n",
        "        \"\"\"\n",
        "        return sorted(s) == sorted(t)\n",
        "\n",
        "\n",
        "solution = Solution()\n",
        "s,t = \"anagram\",\"nagaram\"\n",
        "result = solution.isAnagram(s, t)\n",
        "print(result)"
      ],
      "metadata": {
        "colab": {
          "base_uri": "https://localhost:8080/"
        },
        "id": "5yLRlTekKOBn",
        "outputId": "973053d3-0666-4cca-b927-540a5ce6c782"
      },
      "execution_count": null,
      "outputs": [
        {
          "output_type": "stream",
          "name": "stdout",
          "text": [
            "True\n"
          ]
        }
      ]
    },
    {
      "cell_type": "markdown",
      "source": [
        "# Two Sum"
      ],
      "metadata": {
        "id": "j7zjgC6t5-eI"
      }
    },
    {
      "cell_type": "code",
      "source": [
        "class Solution(object):\n",
        "    def twoSum(self, nums, target):\n",
        "      valuesDict = {} # val: index -> cannot be used the same element twice\n",
        "\n",
        "      for i, n in enumerate(nums):\n",
        "        diff = target - n\n",
        "        if diff in valuesDict:\n",
        "          return [i, valuesDict[diff]]\n",
        "        valuesDict[n] = i\n",
        "      return\n",
        "\n"
      ],
      "metadata": {
        "id": "CSjWhDgb6Ano"
      },
      "execution_count": null,
      "outputs": []
    },
    {
      "cell_type": "markdown",
      "source": [
        "O(n) using extra memory"
      ],
      "metadata": {
        "id": "WO4DYNwuJ6WV"
      }
    },
    {
      "cell_type": "code",
      "source": [
        "%%ipytest\n",
        "\n",
        "import pytest\n",
        "\n",
        "@pytest.mark.parametrize(\n",
        "    'target, input, expected',[\n",
        "      (9, [2,7,11,15], [1,0]),\n",
        "      (6, [3, 2, 4], [2,1]),\n",
        "    ]\n",
        ")\n",
        "def test_twoSum(target, input, expected):\n",
        "  solution = Solution()\n",
        "  result = solution.twoSum(input, target)\n",
        "  assert result == expected\n"
      ],
      "metadata": {
        "id": "-FI02puyCN4V",
        "colab": {
          "base_uri": "https://localhost:8080/"
        },
        "outputId": "4c0c38ec-aa6c-42cb-b18c-1b51da16ebe5"
      },
      "execution_count": null,
      "outputs": [
        {
          "output_type": "stream",
          "name": "stdout",
          "text": [
            "\u001b[32m.\u001b[0m\u001b[32m.\u001b[0m\u001b[32m                                                                                           [100%]\u001b[0m\n",
            "\u001b[32m\u001b[32m\u001b[1m2 passed\u001b[0m\u001b[32m in 0.04s\u001b[0m\u001b[0m\n"
          ]
        }
      ]
    },
    {
      "cell_type": "markdown",
      "source": [
        "# Group Anagram"
      ],
      "metadata": {
        "id": "uSc-pEbca9vL"
      }
    },
    {
      "cell_type": "markdown",
      "source": [
        "\n",
        "Given an array of strings strs, group the anagrams together. You can return the answer in any order.\n",
        "\n",
        "An Anagram is a word or phrase formed by rearranging the letters of a different word or phrase, typically using all the original letters exactly once.\n",
        "\n",
        "\n",
        "\n",
        "Example 1:\n",
        "\n",
        "Input: strs = [\"eat\",\"tea\",\"tan\",\"ate\",\"nat\",\"bat\"]\n",
        "Output: [[\"bat\"],[\"nat\",\"tan\"],[\"ate\",\"eat\",\"tea\"]]\n",
        "Example 2:\n",
        "\n",
        "Input: strs = [\"\"]\n",
        "Output: [[\"\"]]\n",
        "Example 3:\n",
        "\n",
        "Input: strs = [\"a\"]\n",
        "Output: [[\"a\"]]\n",
        "\n",
        "\n",
        "Constraints:\n",
        "\n",
        "1 <= strs.length <= 104\n",
        "0 <= strs[i].length <= 100\n",
        "strs[i] consists of lowercase English letters."
      ],
      "metadata": {
        "id": "AecFgGHsain9"
      }
    },
    {
      "cell_type": "code",
      "source": [
        "from typing import List\n",
        "from collections import defaultdict\n",
        "class Solution:\n",
        "    # input  [\"eat\",\"tea\",\"tan\",\"ate\",\"nat\",\"bat\"]\n",
        "    def groupAnagrams(self, strs: List[str]) -> List[List[str]]:\n",
        "      dict_anagrams = defaultdict(list) # mapping charCount to list of Anagrams\n",
        "\n",
        "      for s in strs: # get a string in an array -> m\n",
        "        count =[0] * 26 # a-z\n",
        "        for c in s: # get each character -> n\n",
        "          count[ord(c)- ord(\"a\")] += 1\n",
        "          print(str(ord(c)- ord(\"a\")))\n",
        "          print(count)\n",
        "        print(tuple(count))\n",
        "        print(s)\n",
        "        dict_anagrams[tuple(count)].append(s) # append in the same position like abc =>(1,1,1,..) append ['abc'] | cba => (1,1,0,..) append ['cba']\n",
        "      return dict_anagrams.values()\n",
        "\n"
      ],
      "metadata": {
        "id": "-j9MmgyBah3A"
      },
      "execution_count": null,
      "outputs": []
    },
    {
      "cell_type": "code",
      "source": [
        "%%ipytest\n",
        "\n",
        "import pytest\n",
        "\n",
        "@pytest.mark.parametrize(\n",
        "    'input, expected',[\n",
        "      ([\"eat\",\"tea\",\"tan\",\"ate\",\"nat\",\"bat\"], [['eat', 'tea', 'ate'], ['tan', 'nat'], ['bat']] ),\n",
        "    ]\n",
        ")\n",
        "def test_groupAnagrams(input, expected):\n",
        "  solution = Solution()\n",
        "  dict_anagrams = solution.groupAnagrams(input)\n",
        "  result = [x for x in dict_anagrams]\n",
        "  assert result == expected"
      ],
      "metadata": {
        "colab": {
          "base_uri": "https://localhost:8080/"
        },
        "id": "a-MR1jT0gsSM",
        "outputId": "2e1d9bb9-b79f-4e09-e326-a6e6f5b65497"
      },
      "execution_count": null,
      "outputs": [
        {
          "output_type": "stream",
          "name": "stdout",
          "text": [
            "\u001b[32m.\u001b[0m\u001b[32m                                                                                            [100%]\u001b[0m\n",
            "\u001b[32m\u001b[32m\u001b[1m1 passed\u001b[0m\u001b[32m in 0.02s\u001b[0m\u001b[0m\n"
          ]
        }
      ]
    },
    {
      "cell_type": "markdown",
      "source": [
        "# Top K Frequent Elements\n",
        "\n",
        "Given an integer array nums and an integer k, return the k most frequent elements. You may return the answer in any order.\n",
        "\n",
        "\n",
        "\n",
        "Example 1:\n",
        "\n",
        "Input: nums = [1,1,1,2,2,3], k = 2\n",
        "Output: [1,2]\n",
        "Example 2:\n",
        "\n",
        "Input: nums = [1], k = 1\n",
        "Output: [1]\n",
        "\n",
        "\n",
        "Constraints:\n",
        "\n",
        "1 <= nums.length <= 105\n",
        "-104 <= nums[i] <= 104\n",
        "k is in the range [1, the number of unique elements in the array].\n",
        "It is guaranteed that the answer is unique.\n",
        "\n",
        "\n",
        "Follow up: Your algorithm's time complexity must be better than O(n log n), where n is the array's size."
      ],
      "metadata": {
        "id": "I-RGsNH7NOlt"
      }
    },
    {
      "cell_type": "code",
      "source": [
        "from typing import List\n",
        "class Solution:\n",
        "    def topKFrequent(self, nums: List[int], k: int) -> List[int]:\n",
        "      count = {}\n",
        "      result = []\n",
        "      frequency = [[] for i in range(0, len(nums) +1) ]\n",
        "\n",
        "      for n in nums: #n\n",
        "        count[n] = 1 + count.get(n,0)\n",
        "\n",
        "      for n, c in count.items(): #n\n",
        "        frequency[c].append(n)\n",
        "\n",
        "      for i in range(len(frequency)-1,-1,-1): #n\n",
        "        for n in frequency[i]: #k\n",
        "          result.append(n)\n",
        "          if len(result) == k:\n",
        "              return result\n",
        "# O(k*n)\n",
        "# O(n)"
      ],
      "metadata": {
        "id": "xDcd-s1NSN8T"
      },
      "execution_count": null,
      "outputs": []
    },
    {
      "cell_type": "code",
      "source": [
        "sol = Solution()\n",
        "nums , k = [1,1,1,2,2,3], 2\n",
        "result = sol.topKFrequent(nums, k)\n",
        "result"
      ],
      "metadata": {
        "colab": {
          "base_uri": "https://localhost:8080/"
        },
        "id": "Oj2AZ1KOSo7I",
        "outputId": "214f243f-a22c-4ce0-80f7-6f5b1d3b0861"
      },
      "execution_count": null,
      "outputs": [
        {
          "output_type": "execute_result",
          "data": {
            "text/plain": [
              "[1, 2]"
            ]
          },
          "metadata": {},
          "execution_count": 109
        }
      ]
    },
    {
      "cell_type": "code",
      "source": [
        "mocks = [\n",
        "  ([1,1,1,2,2,3], 2, [1,2]),\n",
        "]\n",
        "\n",
        "def test_topKFrequent(mock):\n",
        "  sol = Solution()\n",
        "  nums, k, expected  = mock\n",
        "  result = sol.topKFrequent(nums, k)\n",
        "  assert result == expected\n",
        "\n",
        "for mock in mocks:\n",
        "  test_topKFrequent(mock)"
      ],
      "metadata": {
        "id": "QNFYLbUjS051"
      },
      "execution_count": null,
      "outputs": []
    },
    {
      "cell_type": "markdown",
      "source": [
        "# Product of Array Except Self\n",
        "\n",
        "https://leetcode.com/problems/product-of-array-except-self/\n",
        "\n",
        "Given an integer array nums, return an array answer such that answer[i] is equal to the product of all the elements of nums except nums[i].\n",
        "\n",
        "The product of any prefix or suffix of nums is guaranteed to fit in a 32-bit integer.\n",
        "\n",
        "You must write an algorithm that runs in O(n) time and without using the division operation.\n",
        "\n",
        "\n",
        "\n",
        "Example 1:\n",
        "\n",
        "Input: nums = [1,2,3,4]\n",
        "Output: [24,12,8,6]\n",
        "Example 2:\n",
        "\n",
        "Input: nums = [-1,1,0,-3,3]\n",
        "Output: [0,0,9,0,0]\n",
        "\n",
        "\n",
        "Constraints:\n",
        "\n",
        "2 <= nums.length <= 105\n",
        "-30 <= nums[i] <= 30\n",
        "The product of any prefix or suffix of nums is guaranteed to fit in a 32-bit integer.\n",
        "\n",
        "\n",
        "Follow up: Can you solve the problem in O(1) extra space complexity? (The output array does not count as extra space for space complexity analysis.)"
      ],
      "metadata": {
        "id": "rnbh50Vzvc1J"
      }
    },
    {
      "cell_type": "markdown",
      "source": [
        "![image.png](data:image/png;base64,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)"
      ],
      "metadata": {
        "id": "iBL7-X9edA6f"
      }
    },
    {
      "cell_type": "code",
      "source": [
        "from typing import List\n",
        "\n",
        "class Solution:\n",
        "    def productExceptSelf(self, nums: List[int]) -> List[int]:\n",
        "      result = [1] * len(nums)\n",
        "      prefix = 1\n",
        "\n",
        "      for i in range(1, len(nums)):\n",
        "        result[i] = prefix * nums[i-1]\n",
        "        prefix = result[i]\n",
        "\n",
        "      postfix = 1\n",
        "      for i in range(len(result)-1, -1, -1):\n",
        "        result[i] *= postfix\n",
        "        postfix *= nums[i]\n",
        "\n",
        "      return result"
      ],
      "metadata": {
        "id": "Fg9lG9ExveRQ"
      },
      "execution_count": 103,
      "outputs": []
    },
    {
      "cell_type": "code",
      "source": [
        "mocks= [([1,2,3,4], [24,12,8,6])]\n",
        "\n",
        "solution = Solution()\n",
        "for mock in mocks:\n",
        "  input = mock[0]\n",
        "  expected = mock[1]\n",
        "  result = solution.productExceptSelf(input)\n",
        "  assert result == expected"
      ],
      "metadata": {
        "id": "G7u6I6Xdvfdu"
      },
      "execution_count": 108,
      "outputs": []
    }
  ]
}