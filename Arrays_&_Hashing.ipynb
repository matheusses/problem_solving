{
  "nbformat": 4,
  "nbformat_minor": 0,
  "metadata": {
    "colab": {
      "provenance": [],
      "toc_visible": true,
      "authorship_tag": "ABX9TyN4lrPN9wmGB9M439uUbFJH",
      "include_colab_link": true
    },
    "kernelspec": {
      "name": "python3",
      "display_name": "Python 3"
    },
    "language_info": {
      "name": "python"
    }
  },
  "cells": [
    {
      "cell_type": "markdown",
      "metadata": {
        "id": "view-in-github",
        "colab_type": "text"
      },
      "source": [
        "<a href=\"https://colab.research.google.com/github/matheusses/problem_solving/blob/main/Arrays_%26_Hashing.ipynb\" target=\"_parent\"><img src=\"https://colab.research.google.com/assets/colab-badge.svg\" alt=\"Open In Colab\"/></a>"
      ]
    },
    {
      "cell_type": "markdown",
      "source": [
        "\n"
      ],
      "metadata": {
        "id": "ef61jPtL1HZE"
      }
    },
    {
      "cell_type": "code",
      "source": [
        "%pip install -U ipytest"
      ],
      "metadata": {
        "id": "D9yO22rXp_jl",
        "outputId": "0948ab73-cd42-4159-ace3-0f4651913a3e",
        "colab": {
          "base_uri": "https://localhost:8080/"
        }
      },
      "execution_count": null,
      "outputs": [
        {
          "output_type": "stream",
          "name": "stdout",
          "text": [
            "Collecting ipytest\n",
            "  Downloading ipytest-0.13.3-py3-none-any.whl (14 kB)\n",
            "Requirement already satisfied: ipython in /usr/local/lib/python3.10/dist-packages (from ipytest) (7.34.0)\n",
            "Requirement already satisfied: packaging in /usr/local/lib/python3.10/dist-packages (from ipytest) (23.1)\n",
            "Requirement already satisfied: pytest>=5.4 in /usr/local/lib/python3.10/dist-packages (from ipytest) (7.4.0)\n",
            "Requirement already satisfied: iniconfig in /usr/local/lib/python3.10/dist-packages (from pytest>=5.4->ipytest) (2.0.0)\n",
            "Requirement already satisfied: pluggy<2.0,>=0.12 in /usr/local/lib/python3.10/dist-packages (from pytest>=5.4->ipytest) (1.2.0)\n",
            "Requirement already satisfied: exceptiongroup>=1.0.0rc8 in /usr/local/lib/python3.10/dist-packages (from pytest>=5.4->ipytest) (1.1.3)\n",
            "Requirement already satisfied: tomli>=1.0.0 in /usr/local/lib/python3.10/dist-packages (from pytest>=5.4->ipytest) (2.0.1)\n",
            "Requirement already satisfied: setuptools>=18.5 in /usr/local/lib/python3.10/dist-packages (from ipython->ipytest) (67.7.2)\n",
            "Collecting jedi>=0.16 (from ipython->ipytest)\n",
            "  Downloading jedi-0.19.0-py2.py3-none-any.whl (1.6 MB)\n",
            "\u001b[2K     \u001b[90m━━━━━━━━━━━━━━━━━━━━━━━━━━━━━━━━━━━━━━━━\u001b[0m \u001b[32m1.6/1.6 MB\u001b[0m \u001b[31m7.0 MB/s\u001b[0m eta \u001b[36m0:00:00\u001b[0m\n",
            "\u001b[?25hRequirement already satisfied: decorator in /usr/local/lib/python3.10/dist-packages (from ipython->ipytest) (4.4.2)\n",
            "Requirement already satisfied: pickleshare in /usr/local/lib/python3.10/dist-packages (from ipython->ipytest) (0.7.5)\n",
            "Requirement already satisfied: traitlets>=4.2 in /usr/local/lib/python3.10/dist-packages (from ipython->ipytest) (5.7.1)\n",
            "Requirement already satisfied: prompt-toolkit!=3.0.0,!=3.0.1,<3.1.0,>=2.0.0 in /usr/local/lib/python3.10/dist-packages (from ipython->ipytest) (3.0.39)\n",
            "Requirement already satisfied: pygments in /usr/local/lib/python3.10/dist-packages (from ipython->ipytest) (2.16.1)\n",
            "Requirement already satisfied: backcall in /usr/local/lib/python3.10/dist-packages (from ipython->ipytest) (0.2.0)\n",
            "Requirement already satisfied: matplotlib-inline in /usr/local/lib/python3.10/dist-packages (from ipython->ipytest) (0.1.6)\n",
            "Requirement already satisfied: pexpect>4.3 in /usr/local/lib/python3.10/dist-packages (from ipython->ipytest) (4.8.0)\n",
            "Requirement already satisfied: parso<0.9.0,>=0.8.3 in /usr/local/lib/python3.10/dist-packages (from jedi>=0.16->ipython->ipytest) (0.8.3)\n",
            "Requirement already satisfied: ptyprocess>=0.5 in /usr/local/lib/python3.10/dist-packages (from pexpect>4.3->ipython->ipytest) (0.7.0)\n",
            "Requirement already satisfied: wcwidth in /usr/local/lib/python3.10/dist-packages (from prompt-toolkit!=3.0.0,!=3.0.1,<3.1.0,>=2.0.0->ipython->ipytest) (0.2.6)\n",
            "Installing collected packages: jedi, ipytest\n",
            "Successfully installed ipytest-0.13.3 jedi-0.19.0\n"
          ]
        }
      ]
    },
    {
      "cell_type": "code",
      "source": [
        "import ipytest\n",
        "\n",
        "ipytest.autoconfig()"
      ],
      "metadata": {
        "id": "FdXDVznRqa8b"
      },
      "execution_count": null,
      "outputs": []
    },
    {
      "cell_type": "markdown",
      "source": [
        "# Contains Duplicate"
      ],
      "metadata": {
        "id": "lsWi4ZLf1PUu"
      }
    },
    {
      "cell_type": "markdown",
      "source": [
        "\n",
        "Given an integer array nums, return true if any value appears at least twice in the array, and return false if every element is distinct.\n",
        "\n",
        "\n",
        "\n",
        "Example 1:\n",
        "\n",
        "Input: nums = [1,2,3,1]\n",
        "Output: true\n",
        "Example 2:\n",
        "\n",
        "Input: nums = [1,2,3,4]\n",
        "Output: false\n",
        "Example 3:\n",
        "\n",
        "Input: nums = [1,1,1,3,3,4,3,2,4,2]\n",
        "Output: true\n",
        "\n",
        "\n",
        "Constraints:\n",
        "\n",
        "1 <= nums.length <= 105\n",
        "-109 <= nums[i] <= 109"
      ],
      "metadata": {
        "id": "VMKp-8lq0ihg"
      }
    },
    {
      "cell_type": "markdown",
      "source": [
        "## Approach using extra memory using hash set\n",
        "space: Log(n) ->  it is using extra memory in hash set\n",
        "time: Log(n) -> it is not possible to add duplicate data in hash set.\n",
        "\n",
        "It's important to note that sets in Python are primarily designed for fast membership tests and uniqueness of elements."
      ],
      "metadata": {
        "id": "IXWok5HQ0qyy"
      }
    },
    {
      "cell_type": "code",
      "execution_count": null,
      "metadata": {
        "colab": {
          "base_uri": "https://localhost:8080/"
        },
        "id": "E3U6NyOh0DPx",
        "outputId": "1345311e-2ad4-4034-9ad5-ef1e3bf97285"
      },
      "outputs": [
        {
          "output_type": "stream",
          "name": "stdout",
          "text": [
            "True\n"
          ]
        }
      ],
      "source": [
        "class Solution(object):\n",
        "    def containsDuplicate(self, nums):\n",
        "        \"\"\"\n",
        "        :type nums: List[int]\n",
        "        :rtype: bool\n",
        "        \"\"\"\n",
        "        # space => log(n)\n",
        "        hash_set = set()\n",
        "\n",
        "        #  time => log (n)\n",
        "        for num in nums:\n",
        "            if num in hash_set:\n",
        "                return True\n",
        "            hash_set.add(num)\n",
        "\n",
        "solution = Solution()\n",
        "nums = [1,5,5,3,1]\n",
        "result = solution.containsDuplicate(nums)\n",
        "print(result)"
      ]
    },
    {
      "cell_type": "markdown",
      "source": [
        "## Approach ordering set\n",
        "\n",
        "Converting a set to a list using sorted() has a time complexity of O(n log n), where n is the size of the set. This is because the sorting algorithm used by sorted() is typically based on a comparison-based sorting algorithm like Timsort, which has an average-case time complexity of O(n log n)."
      ],
      "metadata": {
        "id": "Qiz_bYLw1A4w"
      }
    },
    {
      "cell_type": "code",
      "source": [
        "class Solution(object):\n",
        "    def containsDuplicate(self, nums):\n",
        "        \"\"\"\n",
        "        :type nums: List[int]\n",
        "        :rtype: bool\n",
        "        \"\"\"\n",
        "        # space => log(1) => it does not use extra memory.\n",
        "        aux_num = None\n",
        "        #  time => log (n log n) => using sorted() has a has a time complexity of O(n log n)\n",
        "        for num in sorted(nums):\n",
        "            if num == aux_num:\n",
        "                return True\n",
        "            aux_num = num\n",
        "\n",
        "solution = Solution()\n",
        "nums = [1,5,5,3,1]\n",
        "result = solution.containsDuplicate(nums)\n",
        "print(result)"
      ],
      "metadata": {
        "colab": {
          "base_uri": "https://localhost:8080/"
        },
        "id": "iEaR_sfM2Umk",
        "outputId": "785456f3-aebb-40b6-bf00-b2c36907caeb"
      },
      "execution_count": null,
      "outputs": [
        {
          "output_type": "stream",
          "name": "stdout",
          "text": [
            "True\n"
          ]
        }
      ]
    },
    {
      "cell_type": "markdown",
      "source": [
        "# Valid Anagram\n",
        "\n",
        "Given two strings s and t, return true if t is an anagram of s, and false otherwise.\n",
        "\n",
        "An Anagram is a word or phrase formed by rearranging the letters of a different word or phrase, typically using all the original letters exactly once.\n",
        "\n",
        "\n",
        "\n",
        "Example 1:\n",
        "\n",
        "Input: s = \"anagram\", t = \"nagaram\"\n",
        "Output: true\n",
        "Example 2:\n",
        "\n",
        "Input: s = \"rat\", t = \"car\"\n",
        "Output: false"
      ],
      "metadata": {
        "id": "Zs0AaEml4pMW"
      }
    },
    {
      "cell_type": "markdown",
      "source": [
        "## Approach using extra memory using hash set\n",
        "\n",
        "Space is O(n) => it is represent amout of s and t .i.e ( in other words), O(t+s)"
      ],
      "metadata": {
        "id": "9wPvZagZG6IG"
      }
    },
    {
      "cell_type": "code",
      "source": [
        "class Solution(object):\n",
        "    def isAnagram(self, s, t):\n",
        "        \"\"\"\n",
        "        :type s: str\n",
        "        :type t: str\n",
        "        :rtype: bool\n",
        "        \"\"\"\n",
        "        if len(s) != len(t):\n",
        "          return False\n",
        "\n",
        "        countS, countT = {}, {}\n",
        "        for i in range(len(s)):\n",
        "          countS[s[i]] = 1 + countS.get(s[i],0)\n",
        "          countT[t[i]] = 1 + countT.get(t[i],0)\n",
        "\n",
        "        for c in countS:\n",
        "          if countS[c] != countT.get(c, 0):\n",
        "            return False\n",
        "\n",
        "        return True\n",
        "\n",
        "\n",
        "solution = Solution()\n",
        "s,t = \"anagram\",\"nagaram\"\n",
        "result = solution.isAnagram(s, t)\n",
        "print(result)"
      ],
      "metadata": {
        "colab": {
          "base_uri": "https://localhost:8080/"
        },
        "id": "I7-u6kqv46ul",
        "outputId": "9b42f7c7-3657-40bc-c479-6b90b4af78cb"
      },
      "execution_count": null,
      "outputs": [
        {
          "output_type": "stream",
          "name": "stdout",
          "text": [
            "True\n"
          ]
        }
      ]
    },
    {
      "cell_type": "markdown",
      "source": [
        "Counter lib has the same complexity in time and space"
      ],
      "metadata": {
        "id": "PaCtPGRCJA-I"
      }
    },
    {
      "cell_type": "code",
      "source": [
        "from collections import Counter\n",
        "class Solution(object):\n",
        "    def isAnagram(self, s, t):\n",
        "        \"\"\"\n",
        "        :type s: str\n",
        "        :type t: str\n",
        "        :rtype: bool\n",
        "        \"\"\"\n",
        "        return Counter(s) == Counter(t)\n",
        "\n",
        "\n",
        "solution = Solution()\n",
        "s,t = \"anagram\",\"nagaram\"\n",
        "result = solution.isAnagram(s, t)\n",
        "print(result)"
      ],
      "metadata": {
        "colab": {
          "base_uri": "https://localhost:8080/"
        },
        "id": "2XYyrEV_JedC",
        "outputId": "98e6a119-ae2e-4eb0-aa2a-e7341928871e"
      },
      "execution_count": null,
      "outputs": [
        {
          "output_type": "stream",
          "name": "stdout",
          "text": [
            "True\n"
          ]
        }
      ]
    },
    {
      "cell_type": "markdown",
      "source": [
        "## Approach ordering set\n",
        "\n",
        "Without use extra memory.\n",
        "\n",
        "Sorting both set data.\n",
        "\n",
        "Space => log(1) - It does not use extra memory.\n",
        "Time => log(n log n) - The sorted has this time of complexity in your avarage."
      ],
      "metadata": {
        "id": "8nPbeWZTKClm"
      }
    },
    {
      "cell_type": "code",
      "source": [
        "from collections import Counter\n",
        "class Solution(object):\n",
        "    def isAnagram(self, s, t):\n",
        "        \"\"\"\n",
        "        :type s: str\n",
        "        :type t: str\n",
        "        :rtype: bool\n",
        "        \"\"\"\n",
        "        return sorted(s) == sorted(t)\n",
        "\n",
        "\n",
        "solution = Solution()\n",
        "s,t = \"anagram\",\"nagaram\"\n",
        "result = solution.isAnagram(s, t)\n",
        "print(result)"
      ],
      "metadata": {
        "colab": {
          "base_uri": "https://localhost:8080/"
        },
        "id": "5yLRlTekKOBn",
        "outputId": "973053d3-0666-4cca-b927-540a5ce6c782"
      },
      "execution_count": null,
      "outputs": [
        {
          "output_type": "stream",
          "name": "stdout",
          "text": [
            "True\n"
          ]
        }
      ]
    },
    {
      "cell_type": "markdown",
      "source": [
        "# Two Sum"
      ],
      "metadata": {
        "id": "j7zjgC6t5-eI"
      }
    },
    {
      "cell_type": "code",
      "source": [
        "class Solution(object):\n",
        "    def twoSum(self, nums, target):\n",
        "      valuesDict = {} # val: index -> cannot be used the same element twice\n",
        "\n",
        "      for i, n in enumerate(nums):\n",
        "        diff = target - n\n",
        "        if diff in valuesDict:\n",
        "          return [i, valuesDict[diff]]\n",
        "        valuesDict[n] = i\n",
        "      return\n",
        "\n"
      ],
      "metadata": {
        "id": "CSjWhDgb6Ano"
      },
      "execution_count": null,
      "outputs": []
    },
    {
      "cell_type": "markdown",
      "source": [
        "O(n) using extra memory"
      ],
      "metadata": {
        "id": "WO4DYNwuJ6WV"
      }
    },
    {
      "cell_type": "code",
      "source": [
        "%%ipytest\n",
        "\n",
        "import pytest\n",
        "\n",
        "@pytest.mark.parametrize(\n",
        "    'target, input, expected',[\n",
        "      (9, [2,7,11,15], [1,0]),\n",
        "      (6, [3, 2, 4], [2,1]),\n",
        "    ]\n",
        ")\n",
        "def test_twoSum(target, input, expected):\n",
        "  solution = Solution()\n",
        "  result = solution.twoSum(input, target)\n",
        "  assert result == expected\n"
      ],
      "metadata": {
        "id": "-FI02puyCN4V",
        "colab": {
          "base_uri": "https://localhost:8080/"
        },
        "outputId": "4c0c38ec-aa6c-42cb-b18c-1b51da16ebe5"
      },
      "execution_count": null,
      "outputs": [
        {
          "output_type": "stream",
          "name": "stdout",
          "text": [
            "\u001b[32m.\u001b[0m\u001b[32m.\u001b[0m\u001b[32m                                                                                           [100%]\u001b[0m\n",
            "\u001b[32m\u001b[32m\u001b[1m2 passed\u001b[0m\u001b[32m in 0.04s\u001b[0m\u001b[0m\n"
          ]
        }
      ]
    },
    {
      "cell_type": "markdown",
      "source": [
        "# Group Anagram"
      ],
      "metadata": {
        "id": "uSc-pEbca9vL"
      }
    },
    {
      "cell_type": "markdown",
      "source": [
        "\n",
        "Given an array of strings strs, group the anagrams together. You can return the answer in any order.\n",
        "\n",
        "An Anagram is a word or phrase formed by rearranging the letters of a different word or phrase, typically using all the original letters exactly once.\n",
        "\n",
        "\n",
        "\n",
        "Example 1:\n",
        "\n",
        "Input: strs = [\"eat\",\"tea\",\"tan\",\"ate\",\"nat\",\"bat\"]\n",
        "Output: [[\"bat\"],[\"nat\",\"tan\"],[\"ate\",\"eat\",\"tea\"]]\n",
        "Example 2:\n",
        "\n",
        "Input: strs = [\"\"]\n",
        "Output: [[\"\"]]\n",
        "Example 3:\n",
        "\n",
        "Input: strs = [\"a\"]\n",
        "Output: [[\"a\"]]\n",
        "\n",
        "\n",
        "Constraints:\n",
        "\n",
        "1 <= strs.length <= 104\n",
        "0 <= strs[i].length <= 100\n",
        "strs[i] consists of lowercase English letters."
      ],
      "metadata": {
        "id": "AecFgGHsain9"
      }
    },
    {
      "cell_type": "code",
      "source": [
        "from typing import List\n",
        "from collections import defaultdict\n",
        "class Solution:\n",
        "    # input  [\"eat\",\"tea\",\"tan\",\"ate\",\"nat\",\"bat\"]\n",
        "    def groupAnagrams(self, strs: List[str]) -> List[List[str]]:\n",
        "      dict_anagrams = defaultdict(list) # mapping charCount to list of Anagrams\n",
        "\n",
        "      for s in strs: # get a string in an array -> m\n",
        "        count =[0] * 26 # a-z\n",
        "        for c in s: # get each character -> n\n",
        "          count[ord(c)- ord(\"a\")] += 1\n",
        "          print(str(ord(c)- ord(\"a\")))\n",
        "          print(count)\n",
        "        print(tuple(count))\n",
        "        print(s)\n",
        "        dict_anagrams[tuple(count)].append(s) # append in the same position like abc =>(1,1,1,..) append ['abc'] | cba => (1,1,0,..) append ['cba']\n",
        "      return dict_anagrams.values()\n",
        "\n"
      ],
      "metadata": {
        "id": "-j9MmgyBah3A"
      },
      "execution_count": null,
      "outputs": []
    },
    {
      "cell_type": "code",
      "source": [
        "%%ipytest\n",
        "\n",
        "import pytest\n",
        "\n",
        "@pytest.mark.parametrize(\n",
        "    'input, expected',[\n",
        "      ([\"eat\",\"tea\",\"tan\",\"ate\",\"nat\",\"bat\"], [['eat', 'tea', 'ate'], ['tan', 'nat'], ['bat']] ),\n",
        "    ]\n",
        ")\n",
        "def test_groupAnagrams(input, expected):\n",
        "  solution = Solution()\n",
        "  dict_anagrams = solution.groupAnagrams(input)\n",
        "  result = [x for x in dict_anagrams]\n",
        "  assert result == expected"
      ],
      "metadata": {
        "colab": {
          "base_uri": "https://localhost:8080/"
        },
        "id": "a-MR1jT0gsSM",
        "outputId": "2e1d9bb9-b79f-4e09-e326-a6e6f5b65497"
      },
      "execution_count": null,
      "outputs": [
        {
          "output_type": "stream",
          "name": "stdout",
          "text": [
            "\u001b[32m.\u001b[0m\u001b[32m                                                                                            [100%]\u001b[0m\n",
            "\u001b[32m\u001b[32m\u001b[1m1 passed\u001b[0m\u001b[32m in 0.02s\u001b[0m\u001b[0m\n"
          ]
        }
      ]
    },
    {
      "cell_type": "markdown",
      "source": [
        "# Top K Frequent Elements\n",
        "\n",
        "Given an integer array nums and an integer k, return the k most frequent elements. You may return the answer in any order.\n",
        "\n",
        "\n",
        "\n",
        "Example 1:\n",
        "\n",
        "Input: nums = [1,1,1,2,2,3], k = 2\n",
        "Output: [1,2]\n",
        "Example 2:\n",
        "\n",
        "Input: nums = [1], k = 1\n",
        "Output: [1]\n",
        "\n",
        "\n",
        "Constraints:\n",
        "\n",
        "1 <= nums.length <= 105\n",
        "-104 <= nums[i] <= 104\n",
        "k is in the range [1, the number of unique elements in the array].\n",
        "It is guaranteed that the answer is unique.\n",
        "\n",
        "\n",
        "Follow up: Your algorithm's time complexity must be better than O(n log n), where n is the array's size."
      ],
      "metadata": {
        "id": "I-RGsNH7NOlt"
      }
    },
    {
      "cell_type": "code",
      "source": [
        "from typing import List\n",
        "class Solution:\n",
        "    def topKFrequent(self, nums: List[int], k: int) -> List[int]:\n",
        "      count = {}\n",
        "      result = []\n",
        "      frequency = [[] for i in range(0, len(nums) +1) ]\n",
        "\n",
        "      for n in nums:\n",
        "        count[n] = 1 + count.get(n,0)\n",
        "\n",
        "      for n, c in count.items():\n",
        "        frequency[c].append(n)\n",
        "\n",
        "      for i in range(len(frequency)-1,-1,-1):\n",
        "        for n in frequency[i]:\n",
        "          result.append(n)\n",
        "          if len(result) == k:\n",
        "              return result\n"
      ],
      "metadata": {
        "id": "xDcd-s1NSN8T"
      },
      "execution_count": 107,
      "outputs": []
    },
    {
      "cell_type": "code",
      "source": [
        "sol = Solution()\n",
        "nums , k = [1,1,1,2,2,3], 2\n",
        "result = sol.topKFrequent(nums, k)\n",
        "result"
      ],
      "metadata": {
        "id": "Oj2AZ1KOSo7I",
        "outputId": "214f243f-a22c-4ce0-80f7-6f5b1d3b0861",
        "colab": {
          "base_uri": "https://localhost:8080/"
        }
      },
      "execution_count": 109,
      "outputs": [
        {
          "output_type": "execute_result",
          "data": {
            "text/plain": [
              "[1, 2]"
            ]
          },
          "metadata": {},
          "execution_count": 109
        }
      ]
    },
    {
      "cell_type": "code",
      "source": [
        "mocks = [\n",
        "  ([1,1,1,2,2,3], 2, [1,2]),\n",
        "]\n",
        "\n",
        "def test_topKFrequent(mock):\n",
        "  sol = Solution()\n",
        "  nums, k, expected  = mock\n",
        "  result = sol.topKFrequent(nums, k)\n",
        "  assert result == expected\n",
        "\n",
        "for mock in mocks:\n",
        "  test_topKFrequent(mock)"
      ],
      "metadata": {
        "id": "QNFYLbUjS051"
      },
      "execution_count": 110,
      "outputs": []
    }
  ]
}