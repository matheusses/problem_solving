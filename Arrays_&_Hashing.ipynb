{
  "nbformat": 4,
  "nbformat_minor": 0,
  "metadata": {
    "colab": {
      "provenance": [],
      "toc_visible": true,
      "authorship_tag": "ABX9TyNf/YhQwbz7vwtF2xx1d9Vk",
      "include_colab_link": true
    },
    "kernelspec": {
      "name": "python3",
      "display_name": "Python 3"
    },
    "language_info": {
      "name": "python"
    }
  },
  "cells": [
    {
      "cell_type": "markdown",
      "metadata": {
        "id": "view-in-github",
        "colab_type": "text"
      },
      "source": [
        "<a href=\"https://colab.research.google.com/github/matheusses/problem_solving/blob/main/Arrays_%26_Hashing.ipynb\" target=\"_parent\"><img src=\"https://colab.research.google.com/assets/colab-badge.svg\" alt=\"Open In Colab\"/></a>"
      ]
    },
    {
      "cell_type": "markdown",
      "source": [
        "\n"
      ],
      "metadata": {
        "id": "ef61jPtL1HZE"
      }
    },
    {
      "cell_type": "markdown",
      "source": [
        "# Contains Duplicate"
      ],
      "metadata": {
        "id": "lsWi4ZLf1PUu"
      }
    },
    {
      "cell_type": "markdown",
      "source": [
        "\n",
        "Given an integer array nums, return true if any value appears at least twice in the array, and return false if every element is distinct.\n",
        "\n",
        "\n",
        "\n",
        "Example 1:\n",
        "\n",
        "Input: nums = [1,2,3,1]\n",
        "Output: true\n",
        "Example 2:\n",
        "\n",
        "Input: nums = [1,2,3,4]\n",
        "Output: false\n",
        "Example 3:\n",
        "\n",
        "Input: nums = [1,1,1,3,3,4,3,2,4,2]\n",
        "Output: true\n",
        "\n",
        "\n",
        "Constraints:\n",
        "\n",
        "1 <= nums.length <= 105\n",
        "-109 <= nums[i] <= 109"
      ],
      "metadata": {
        "id": "VMKp-8lq0ihg"
      }
    },
    {
      "cell_type": "markdown",
      "source": [
        "## Approach using extra memory using hash set\n",
        "space: Log(n) ->  it is using extra memory in hash set\n",
        "time: Log(n) -> it is not possible to add duplicate data in hash set.\n",
        "\n",
        "It's important to note that sets in Python are primarily designed for fast membership tests and uniqueness of elements."
      ],
      "metadata": {
        "id": "IXWok5HQ0qyy"
      }
    },
    {
      "cell_type": "code",
      "execution_count": null,
      "metadata": {
        "colab": {
          "base_uri": "https://localhost:8080/"
        },
        "id": "E3U6NyOh0DPx",
        "outputId": "1345311e-2ad4-4034-9ad5-ef1e3bf97285"
      },
      "outputs": [
        {
          "output_type": "stream",
          "name": "stdout",
          "text": [
            "True\n"
          ]
        }
      ],
      "source": [
        "class Solution(object):\n",
        "    def containsDuplicate(self, nums):\n",
        "        \"\"\"\n",
        "        :type nums: List[int]\n",
        "        :rtype: bool\n",
        "        \"\"\"\n",
        "        # space => log(n)\n",
        "        hash_set = set()\n",
        "\n",
        "        #  time => log (n)\n",
        "        for num in nums:\n",
        "            if num in hash_set:\n",
        "                return True\n",
        "            hash_set.add(num)\n",
        "\n",
        "solution = Solution()\n",
        "nums = [1,5,5,3,1]\n",
        "result = solution.containsDuplicate(nums)\n",
        "print(result)"
      ]
    },
    {
      "cell_type": "markdown",
      "source": [
        "## Approach ordering set\n",
        "\n",
        "Converting a set to a list using sorted() has a time complexity of O(n log n), where n is the size of the set. This is because the sorting algorithm used by sorted() is typically based on a comparison-based sorting algorithm like Timsort, which has an average-case time complexity of O(n log n)."
      ],
      "metadata": {
        "id": "Qiz_bYLw1A4w"
      }
    },
    {
      "cell_type": "code",
      "source": [
        "class Solution(object):\n",
        "    def containsDuplicate(self, nums):\n",
        "        \"\"\"\n",
        "        :type nums: List[int]\n",
        "        :rtype: bool\n",
        "        \"\"\"\n",
        "        # space => log(1) => it does not use extra memory.\n",
        "        aux_num = None\n",
        "        #  time => log (n log n) => using sorted() has a has a time complexity of O(n log n)\n",
        "        for num in sorted(nums):\n",
        "            if num == aux_num:\n",
        "                return True\n",
        "            aux_num = num\n",
        "\n",
        "solution = Solution()\n",
        "nums = [1,5,5,3,1]\n",
        "result = solution.containsDuplicate(nums)\n",
        "print(result)"
      ],
      "metadata": {
        "colab": {
          "base_uri": "https://localhost:8080/"
        },
        "id": "iEaR_sfM2Umk",
        "outputId": "785456f3-aebb-40b6-bf00-b2c36907caeb"
      },
      "execution_count": null,
      "outputs": [
        {
          "output_type": "stream",
          "name": "stdout",
          "text": [
            "True\n"
          ]
        }
      ]
    },
    {
      "cell_type": "markdown",
      "source": [
        "# Valid Anagram\n",
        "\n",
        "Given two strings s and t, return true if t is an anagram of s, and false otherwise.\n",
        "\n",
        "An Anagram is a word or phrase formed by rearranging the letters of a different word or phrase, typically using all the original letters exactly once.\n",
        "\n",
        "\n",
        "\n",
        "Example 1:\n",
        "\n",
        "Input: s = \"anagram\", t = \"nagaram\"\n",
        "Output: true\n",
        "Example 2:\n",
        "\n",
        "Input: s = \"rat\", t = \"car\"\n",
        "Output: false"
      ],
      "metadata": {
        "id": "Zs0AaEml4pMW"
      }
    },
    {
      "cell_type": "markdown",
      "source": [
        "## Approach using extra memory using hash set\n",
        "\n",
        "Space is O(n) => it is represent amout of s and t .i.e ( in other words), O(t+s)"
      ],
      "metadata": {
        "id": "9wPvZagZG6IG"
      }
    },
    {
      "cell_type": "code",
      "source": [
        "class Solution(object):\n",
        "    def isAnagram(self, s, t):\n",
        "        \"\"\"\n",
        "        :type s: str\n",
        "        :type t: str\n",
        "        :rtype: bool\n",
        "        \"\"\"\n",
        "        if len(s) != len(t):\n",
        "          return False\n",
        "\n",
        "        countS, countT = {}, {}\n",
        "        for i in range(len(s)):\n",
        "          countS[s[i]] = 1 + countS.get(s[i],0)\n",
        "          countT[t[i]] = 1 + countT.get(t[i],0)\n",
        "\n",
        "        for c in countS:\n",
        "          if countS[c] != countT.get(c, 0):\n",
        "            return False\n",
        "\n",
        "        return True\n",
        "\n",
        "\n",
        "solution = Solution()\n",
        "s,t = \"anagram\",\"nagaram\"\n",
        "result = solution.isAnagram(s, t)\n",
        "print(result)"
      ],
      "metadata": {
        "colab": {
          "base_uri": "https://localhost:8080/"
        },
        "id": "I7-u6kqv46ul",
        "outputId": "9b42f7c7-3657-40bc-c479-6b90b4af78cb"
      },
      "execution_count": null,
      "outputs": [
        {
          "output_type": "stream",
          "name": "stdout",
          "text": [
            "True\n"
          ]
        }
      ]
    },
    {
      "cell_type": "markdown",
      "source": [
        "Counter lib has the same complexity in time and space"
      ],
      "metadata": {
        "id": "PaCtPGRCJA-I"
      }
    },
    {
      "cell_type": "code",
      "source": [
        "from collections import Counter\n",
        "class Solution(object):\n",
        "    def isAnagram(self, s, t):\n",
        "        \"\"\"\n",
        "        :type s: str\n",
        "        :type t: str\n",
        "        :rtype: bool\n",
        "        \"\"\"\n",
        "        return Counter(s) == Counter(t)\n",
        "\n",
        "\n",
        "solution = Solution()\n",
        "s,t = \"anagram\",\"nagaram\"\n",
        "result = solution.isAnagram(s, t)\n",
        "print(result)"
      ],
      "metadata": {
        "colab": {
          "base_uri": "https://localhost:8080/"
        },
        "id": "2XYyrEV_JedC",
        "outputId": "98e6a119-ae2e-4eb0-aa2a-e7341928871e"
      },
      "execution_count": null,
      "outputs": [
        {
          "output_type": "stream",
          "name": "stdout",
          "text": [
            "True\n"
          ]
        }
      ]
    },
    {
      "cell_type": "markdown",
      "source": [
        "## Approach ordering set\n",
        "\n",
        "Without use extra memory.\n",
        "\n",
        "Sorting both set data.\n",
        "\n",
        "Space => log(1) - It does not use extra memory.\n",
        "Time => log(n log n) - The sorted has this time of complexity in your avarage."
      ],
      "metadata": {
        "id": "8nPbeWZTKClm"
      }
    },
    {
      "cell_type": "code",
      "source": [
        "from collections import Counter\n",
        "class Solution(object):\n",
        "    def isAnagram(self, s, t):\n",
        "        \"\"\"\n",
        "        :type s: str\n",
        "        :type t: str\n",
        "        :rtype: bool\n",
        "        \"\"\"\n",
        "        return sorted(s) == sorted(t)\n",
        "\n",
        "\n",
        "solution = Solution()\n",
        "s,t = \"anagram\",\"nagaram\"\n",
        "result = solution.isAnagram(s, t)\n",
        "print(result)"
      ],
      "metadata": {
        "colab": {
          "base_uri": "https://localhost:8080/"
        },
        "id": "5yLRlTekKOBn",
        "outputId": "973053d3-0666-4cca-b927-540a5ce6c782"
      },
      "execution_count": null,
      "outputs": [
        {
          "output_type": "stream",
          "name": "stdout",
          "text": [
            "True\n"
          ]
        }
      ]
    },
    {
      "cell_type": "markdown",
      "source": [
        "## Two Sum"
      ],
      "metadata": {
        "id": "j7zjgC6t5-eI"
      }
    },
    {
      "cell_type": "code",
      "source": [
        "class Solution(object):\n",
        "    def twoSum(self, nums, target):\n",
        "      diffValuesDict = {} # val: index -> cannot be used the same element twice\n",
        "\n",
        "      for i, n in enumerate(nums):\n",
        "        diff = target - n\n",
        "        if diff in diffValuesDict:\n",
        "          return [i, diffValuesDict[diff]]\n",
        "        else:\n",
        "          diffValuesDict[n] = i\n",
        "      return\n",
        "\n"
      ],
      "metadata": {
        "id": "CSjWhDgb6Ano"
      },
      "execution_count": 22,
      "outputs": []
    },
    {
      "cell_type": "markdown",
      "source": [
        "Times and space O(n)"
      ],
      "metadata": {
        "id": "WO4DYNwuJ6WV"
      }
    },
    {
      "cell_type": "code",
      "source": [
        "import pytest\n",
        "\n",
        "class SolutionTest:\n",
        "\n",
        "    @pytest.fixture\n",
        "    def array_target_9(self):\n",
        "      return [2,7,11,15]\n",
        "\n",
        "    @pytest.fixture\n",
        "    def array_target_6(self):\n",
        "      return [3,2,4]\n",
        "\n",
        "    @pytest.mark.parametrize(\n",
        "        'target, input, expected',\n",
        "        (9, array_target_9, [0,1]),\n",
        "        (6,array_target_6,[1,2]),\n",
        "    )\n",
        "    def twoSum_test(self,target, input, expected):\n",
        "      solution = Solution()\n",
        "      result = solution.twoSum(input, target)\n",
        "      assert result == expected\n",
        "\n"
      ],
      "metadata": {
        "id": "-FI02puyCN4V"
      },
      "execution_count": 23,
      "outputs": []
    },
    {
      "cell_type": "code",
      "source": [
        "solution = Solution()\n",
        "input = [2,7,11,15]\n",
        "target=9\n",
        "result = solution.twoSum(input, target)\n",
        "print (result == [1,0])"
      ],
      "metadata": {
        "id": "B7xAxDV4FbcE",
        "outputId": "7d765f1d-57c9-49d8-9ce6-8ec1a97d4963",
        "colab": {
          "base_uri": "https://localhost:8080/"
        }
      },
      "execution_count": 24,
      "outputs": [
        {
          "output_type": "stream",
          "name": "stdout",
          "text": [
            "True\n"
          ]
        }
      ]
    }
  ]
}